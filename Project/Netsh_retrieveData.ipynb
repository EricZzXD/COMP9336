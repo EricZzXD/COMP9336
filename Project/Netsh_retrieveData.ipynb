{
 "cells": [
  {
   "cell_type": "code",
   "execution_count": 46,
   "id": "bcfaf255",
   "metadata": {},
   "outputs": [],
   "source": [
    "# This is used for Data collection and store at a folder for furtehr analysis\n",
    "import subprocess\n",
    "import sys\n",
    "import os\n",
    "\n",
    "# You may want to to run code: (Can change name here)\n",
    "filename = \"Test8\"\n",
    "\n",
    "# Path name and join (Dont modify)\n",
    "path = \"BurwoodL3 TestData\"\n",
    "# path = \"Dockland - DataCollection\"\n",
    "fileType = \".txt\"\n",
    "fileall = filename + fileType\n",
    "pathJoin = os.path.join(path, fileall)\n",
    "\n",
    "# Run the command to search the SSID nearby and save txt file\n",
    "results = subprocess.check_output([\"netsh\", \"wlan\", \"show\", \"network\", \"mode=BSSID\"])\n",
    "\n",
    "# Open and write Byte to txtx file\n",
    "text_file = open(pathJoin, \"wb\")\n",
    "text_file.write(results)\n",
    "text_file.close()\n"
   ]
  },
  {
   "cell_type": "code",
   "execution_count": null,
   "id": "76b2d57d",
   "metadata": {},
   "outputs": [],
   "source": []
  },
  {
   "cell_type": "code",
   "execution_count": null,
   "id": "66877df6",
   "metadata": {},
   "outputs": [],
   "source": []
  }
 ],
 "metadata": {
  "kernelspec": {
   "display_name": "Python 3 (ipykernel)",
   "language": "python",
   "name": "python3"
  },
  "language_info": {
   "codemirror_mode": {
    "name": "ipython",
    "version": 3
   },
   "file_extension": ".py",
   "mimetype": "text/x-python",
   "name": "python",
   "nbconvert_exporter": "python",
   "pygments_lexer": "ipython3",
   "version": "3.9.12"
  }
 },
 "nbformat": 4,
 "nbformat_minor": 5
}
