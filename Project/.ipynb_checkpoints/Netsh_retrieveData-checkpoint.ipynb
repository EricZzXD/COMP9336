{
 "cells": [
  {
   "cell_type": "code",
   "execution_count": 49,
   "id": "bcfaf255",
   "metadata": {},
   "outputs": [],
   "source": [
    "# This is used for Data collection and store at a folder for furtehr analysis\n",
    "import subprocess\n",
    "import sys\n",
    "import os\n",
    "\n",
    "# You may want to to run code: (Can change name here)\n",
    "filename = \"Test2\"\n",
    "\n",
    "# Path name and join (Dont modify)\n",
    "path = \"Dockland - TestData\"\n",
    "# path = \"Dockland - DataCollection\"\n",
    "fileType = \".txt\"\n",
    "fileall = filename + fileType\n",
    "pathJoin = os.path.join(path, fileall)\n",
    "\n",
    "# Run the command to search the SSID nearby and save txt file\n",
    "results = subprocess.check_output([\"netsh\", \"wlan\", \"show\", \"network\", \"mode=BSSID\"])\n",
    "\n",
    "# Open and write Byte to txtx file\n",
    "text_file = open(pathJoin, \"wb\")\n",
    "text_file.write(results)\n",
    "text_file.close()\n"
   ]
  },
  {
   "cell_type": "code",
   "execution_count": null,
   "id": "5a3b72e8",
   "metadata": {},
   "outputs": [],
   "source": []
  },
  {
   "cell_type": "code",
   "execution_count": 54,
   "id": "ea8f01fc",
   "metadata": {},
   "outputs": [],
   "source": [
    "# Path Location \n",
    "Filepath = \"Burwood - DataCollection\"\n",
    "\n",
    "# Raw Dataset Path\n",
    "datasetPath1 = Filepath + \"/DataSet_1\"\n",
    "datasetPath2 = Filepath + \"/DataSet_2\"\n",
    "datasetPath3 = Filepath + \"/DataSet_3\"\n",
    "datasetPath4 = Filepath + \"/DataSet_4\"\n",
    "\n",
    "# Output Dataset Path\n",
    "OutputDataset = Filepath + \"/DataSet_Merge\"\n",
    "\n",
    "# Load the Dataset\n",
    "Filename = os.listdir(datasetPath1)[1]\n",
    "\n",
    "TestPathJoin = os.path.join(Test_FilePath, Filename)\n",
    "\n",
    "test_fread = open(TestPathJoin, 'r').read()\n",
    "\n",
    "result = Pre_Analysis(test_fread)\n"
   ]
  },
  {
   "cell_type": "code",
   "execution_count": null,
   "id": "838c28c0",
   "metadata": {},
   "outputs": [],
   "source": []
  }
 ],
 "metadata": {
  "kernelspec": {
   "display_name": "Python 3 (ipykernel)",
   "language": "python",
   "name": "python3"
  },
  "language_info": {
   "codemirror_mode": {
    "name": "ipython",
    "version": 3
   },
   "file_extension": ".py",
   "mimetype": "text/x-python",
   "name": "python",
   "nbconvert_exporter": "python",
   "pygments_lexer": "ipython3",
   "version": "3.9.12"
  }
 },
 "nbformat": 4,
 "nbformat_minor": 5
}
