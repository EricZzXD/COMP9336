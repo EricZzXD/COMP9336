{
 "cells": [
  {
   "cell_type": "code",
   "execution_count": 41,
   "id": "f5d3a340",
   "metadata": {},
   "outputs": [],
   "source": [
    "import pandas\n",
    "import matplotlib.pyplot as plt\n",
    "import csv\n",
    "import math\n",
    "import numpy as np"
   ]
  },
  {
   "cell_type": "code",
   "execution_count": 68,
   "id": "21e02cee",
   "metadata": {},
   "outputs": [],
   "source": [
    "def read_csv(filename, distance):\n",
    "    df_read = pandas.read_csv(filename)\n",
    "    df_value = df_read['Signal strength (dBm)'].apply(lambda x: int(x.strip('dBm')))\n",
    "#     df = pandas.DataFrame(columns=[\"Distance\", \"Signal strength (dBm)\"])\n",
    "    df = pandas.DataFrame(df_value)\n",
    "    df[\"Distance\"] = distance\n",
    "    return df"
   ]
  },
  {
   "cell_type": "markdown",
   "id": "e00f9ef4",
   "metadata": {},
   "source": [
    "## Indoor Experiment "
   ]
  },
  {
   "cell_type": "code",
   "execution_count": 69,
   "id": "ed743df0",
   "metadata": {},
   "outputs": [],
   "source": [
    "all_df = read_csv(\"ID_1m.csv\", 1)\n",
    "for i in range(2,11):\n",
    "    df = read_csv(filename = f\"ID_{i}m.csv\", distance = i)\n",
    "    all_df = all_df.append(df)"
   ]
  },
  {
   "cell_type": "code",
   "execution_count": 70,
   "id": "09332aad",
   "metadata": {},
   "outputs": [
    {
     "data": {
      "text/html": [
       "<div>\n",
       "<style scoped>\n",
       "    .dataframe tbody tr th:only-of-type {\n",
       "        vertical-align: middle;\n",
       "    }\n",
       "\n",
       "    .dataframe tbody tr th {\n",
       "        vertical-align: top;\n",
       "    }\n",
       "\n",
       "    .dataframe thead th {\n",
       "        text-align: right;\n",
       "    }\n",
       "</style>\n",
       "<table border=\"1\" class=\"dataframe\">\n",
       "  <thead>\n",
       "    <tr style=\"text-align: right;\">\n",
       "      <th></th>\n",
       "      <th>Signal strength (dBm)</th>\n",
       "    </tr>\n",
       "    <tr>\n",
       "      <th>Distance</th>\n",
       "      <th></th>\n",
       "    </tr>\n",
       "  </thead>\n",
       "  <tbody>\n",
       "    <tr>\n",
       "      <th>1</th>\n",
       "      <td>3419</td>\n",
       "    </tr>\n",
       "    <tr>\n",
       "      <th>2</th>\n",
       "      <td>4751</td>\n",
       "    </tr>\n",
       "    <tr>\n",
       "      <th>3</th>\n",
       "      <td>3878</td>\n",
       "    </tr>\n",
       "    <tr>\n",
       "      <th>4</th>\n",
       "      <td>4204</td>\n",
       "    </tr>\n",
       "    <tr>\n",
       "      <th>5</th>\n",
       "      <td>5763</td>\n",
       "    </tr>\n",
       "    <tr>\n",
       "      <th>6</th>\n",
       "      <td>7494</td>\n",
       "    </tr>\n",
       "    <tr>\n",
       "      <th>7</th>\n",
       "      <td>5325</td>\n",
       "    </tr>\n",
       "    <tr>\n",
       "      <th>8</th>\n",
       "      <td>5320</td>\n",
       "    </tr>\n",
       "    <tr>\n",
       "      <th>9</th>\n",
       "      <td>4957</td>\n",
       "    </tr>\n",
       "    <tr>\n",
       "      <th>10</th>\n",
       "      <td>8120</td>\n",
       "    </tr>\n",
       "  </tbody>\n",
       "</table>\n",
       "</div>"
      ],
      "text/plain": [
       "          Signal strength (dBm)\n",
       "Distance                       \n",
       "1                          3419\n",
       "2                          4751\n",
       "3                          3878\n",
       "4                          4204\n",
       "5                          5763\n",
       "6                          7494\n",
       "7                          5325\n",
       "8                          5320\n",
       "9                          4957\n",
       "10                         8120"
      ]
     },
     "execution_count": 70,
     "metadata": {},
     "output_type": "execute_result"
    }
   ],
   "source": [
    "all_df.groupby('Distance').count()"
   ]
  },
  {
   "cell_type": "code",
   "execution_count": 73,
   "id": "e32d42f6",
   "metadata": {},
   "outputs": [
    {
     "name": "stdout",
     "output_type": "stream",
     "text": [
      "y=-5.739175270590295x + 34.057628373908486\n"
     ]
    },
    {
     "data": {
      "image/png": "[encoded data removed]",
      "text/plain": [
       "<Figure size 432x288 with 1 Axes>"
      ]
     },
     "metadata": {
      "needs_background": "light"
     },
     "output_type": "display_data"
    }
   ],
   "source": [
    "all_df[\"log_Distance\"] = all_df[\"Distance\"].apply(math.log10)\n",
    "m, b = np.polyfit(all_df[\"log_Distance\"], all_df[\"Signal strength (dBm)\"], 1)\n",
    "fig, ax1 = plt.subplots(1)\n",
    "ax1.plot(all_df[\"Distance\"], m*all_df[\"log_Distance\"] + b)\n",
    "all_df.plot(kind=\"scatter\", x=\"Distance\", y = \"Signal strength (dBm)\", logx = True, ax=ax1)\n",
    "ax1.set_xlabel(\"distance-log (meter)\")\n",
    "ax1.set_title(\"RSS vs .Log Distance\")\n",
    "print(f\"y={m}x + {b}\")"
   ]
  },
  {
   "cell_type": "code",
   "execution_count": 74,
   "id": "d841e040",
   "metadata": {},
   "outputs": [
    {
     "data": {
      "text/html": [
       "<div>\n",
       "<style scoped>\n",
       "    .dataframe tbody tr th:only-of-type {\n",
       "        vertical-align: middle;\n",
       "    }\n",
       "\n",
       "    .dataframe tbody tr th {\n",
       "        vertical-align: top;\n",
       "    }\n",
       "\n",
       "    .dataframe thead th {\n",
       "        text-align: right;\n",
       "    }\n",
       "</style>\n",
       "<table border=\"1\" class=\"dataframe\">\n",
       "  <thead>\n",
       "    <tr style=\"text-align: right;\">\n",
       "      <th></th>\n",
       "      <th>Signal strength (dBm)</th>\n",
       "      <th>log_Distance</th>\n",
       "    </tr>\n",
       "    <tr>\n",
       "      <th>Distance</th>\n",
       "      <th></th>\n",
       "      <th></th>\n",
       "    </tr>\n",
       "  </thead>\n",
       "  <tbody>\n",
       "    <tr>\n",
       "      <th>1</th>\n",
       "      <td>32.420883</td>\n",
       "      <td>0.000000</td>\n",
       "    </tr>\n",
       "    <tr>\n",
       "      <th>2</th>\n",
       "      <td>31.911387</td>\n",
       "      <td>0.301030</td>\n",
       "    </tr>\n",
       "    <tr>\n",
       "      <th>3</th>\n",
       "      <td>32.370036</td>\n",
       "      <td>0.477121</td>\n",
       "    </tr>\n",
       "    <tr>\n",
       "      <th>4</th>\n",
       "      <td>32.986679</td>\n",
       "      <td>0.602060</td>\n",
       "    </tr>\n",
       "    <tr>\n",
       "      <th>5</th>\n",
       "      <td>29.667534</td>\n",
       "      <td>0.698970</td>\n",
       "    </tr>\n",
       "    <tr>\n",
       "      <th>6</th>\n",
       "      <td>29.530691</td>\n",
       "      <td>0.778151</td>\n",
       "    </tr>\n",
       "    <tr>\n",
       "      <th>7</th>\n",
       "      <td>31.999061</td>\n",
       "      <td>0.845098</td>\n",
       "    </tr>\n",
       "    <tr>\n",
       "      <th>8</th>\n",
       "      <td>27.446429</td>\n",
       "      <td>0.903090</td>\n",
       "    </tr>\n",
       "    <tr>\n",
       "      <th>9</th>\n",
       "      <td>28.838814</td>\n",
       "      <td>0.954243</td>\n",
       "    </tr>\n",
       "    <tr>\n",
       "      <th>10</th>\n",
       "      <td>26.788916</td>\n",
       "      <td>1.000000</td>\n",
       "    </tr>\n",
       "  </tbody>\n",
       "</table>\n",
       "</div>"
      ],
      "text/plain": [
       "          Signal strength (dBm)  log_Distance\n",
       "Distance                                     \n",
       "1                     32.420883      0.000000\n",
       "2                     31.911387      0.301030\n",
       "3                     32.370036      0.477121\n",
       "4                     32.986679      0.602060\n",
       "5                     29.667534      0.698970\n",
       "6                     29.530691      0.778151\n",
       "7                     31.999061      0.845098\n",
       "8                     27.446429      0.903090\n",
       "9                     28.838814      0.954243\n",
       "10                    26.788916      1.000000"
      ]
     },
     "execution_count": 74,
     "metadata": {},
     "output_type": "execute_result"
    }
   ],
   "source": [
    "avg_all_df = all_df.groupby(\"Distance\").mean()\n",
    "avg_all_df"
   ]
  },
  {
   "cell_type": "code",
   "execution_count": 75,
   "id": "abd6914d",
   "metadata": {},
   "outputs": [
    {
     "name": "stdout",
     "output_type": "stream",
     "text": [
      "y=-5.0728790870984435x + 33.72373156846025\n"
     ]
    },
    {
     "data": {
      "image/png": "[encoded data removed]",
      "text/plain": [
       "<Figure size 432x288 with 1 Axes>"
      ]
     },
     "metadata": {
      "needs_background": "light"
     },
     "output_type": "display_data"
    }
   ],
   "source": [
    "x = avg_all_df[\"log_Distance\"]\n",
    "y = avg_all_df[\"Signal strength (dBm)\"]\n",
    "m, b = np.polyfit(x,y ,1)\n",
    "\n",
    "fig, ax1 = plt.subplots(1)\n",
    "ax1.plot(x, m*x + b)\n",
    "avg_all_df.plot(kind=\"scatter\", x=\"log_Distance\", y = \"Signal strength (dBm)\", ax=ax1)\n",
    "ax1.set_xlabel(\"distance-log (meter)\")\n",
    "ax1.set_title(\"Average RSS vs .Log Distance\")\n",
    "print(f\"y={m}x + {b}\")\n"
   ]
  },
  {
   "cell_type": "markdown",
   "id": "1a71f509",
   "metadata": {},
   "source": [
    "## Outdoor Experiment "
   ]
  },
  {
   "cell_type": "code",
   "execution_count": 61,
   "id": "84d5f233",
   "metadata": {},
   "outputs": [],
   "source": [
    "all_df = read_csv(\"OD_1m.csv\", 1)\n",
    "for i in range(2,11):\n",
    "    df = read_csv(filename = f\"OD_{i}m.csv\", distance = i)\n",
    "    all_df = all_df.append(df)"
   ]
  },
  {
   "cell_type": "code",
   "execution_count": 62,
   "id": "5c223c61",
   "metadata": {},
   "outputs": [
    {
     "data": {
      "text/html": [
       "<div>\n",
       "<style scoped>\n",
       "    .dataframe tbody tr th:only-of-type {\n",
       "        vertical-align: middle;\n",
       "    }\n",
       "\n",
       "    .dataframe tbody tr th {\n",
       "        vertical-align: top;\n",
       "    }\n",
       "\n",
       "    .dataframe thead th {\n",
       "        text-align: right;\n",
       "    }\n",
       "</style>\n",
       "<table border=\"1\" class=\"dataframe\">\n",
       "  <thead>\n",
       "    <tr style=\"text-align: right;\">\n",
       "      <th></th>\n",
       "      <th>Signal strength (dBm)</th>\n",
       "    </tr>\n",
       "    <tr>\n",
       "      <th>Distance</th>\n",
       "      <th></th>\n",
       "    </tr>\n",
       "  </thead>\n",
       "  <tbody>\n",
       "    <tr>\n",
       "      <th>1</th>\n",
       "      <td>6117</td>\n",
       "    </tr>\n",
       "    <tr>\n",
       "      <th>2</th>\n",
       "      <td>2591</td>\n",
       "    </tr>\n",
       "    <tr>\n",
       "      <th>3</th>\n",
       "      <td>4982</td>\n",
       "    </tr>\n",
       "    <tr>\n",
       "      <th>4</th>\n",
       "      <td>6847</td>\n",
       "    </tr>\n",
       "    <tr>\n",
       "      <th>5</th>\n",
       "      <td>6852</td>\n",
       "    </tr>\n",
       "    <tr>\n",
       "      <th>6</th>\n",
       "      <td>5649</td>\n",
       "    </tr>\n",
       "    <tr>\n",
       "      <th>7</th>\n",
       "      <td>5694</td>\n",
       "    </tr>\n",
       "    <tr>\n",
       "      <th>8</th>\n",
       "      <td>5245</td>\n",
       "    </tr>\n",
       "    <tr>\n",
       "      <th>9</th>\n",
       "      <td>5641</td>\n",
       "    </tr>\n",
       "    <tr>\n",
       "      <th>10</th>\n",
       "      <td>6976</td>\n",
       "    </tr>\n",
       "  </tbody>\n",
       "</table>\n",
       "</div>"
      ],
      "text/plain": [
       "          Signal strength (dBm)\n",
       "Distance                       \n",
       "1                          6117\n",
       "2                          2591\n",
       "3                          4982\n",
       "4                          6847\n",
       "5                          6852\n",
       "6                          5649\n",
       "7                          5694\n",
       "8                          5245\n",
       "9                          5641\n",
       "10                         6976"
      ]
     },
     "execution_count": 62,
     "metadata": {},
     "output_type": "execute_result"
    }
   ],
   "source": [
    "all_df.groupby('Distance').count()"
   ]
  },
  {
   "cell_type": "code",
   "execution_count": 67,
   "id": "19a36f14",
   "metadata": {
    "scrolled": true
   },
   "outputs": [
    {
     "name": "stdout",
     "output_type": "stream",
     "text": [
      "y=-13.021784996375436x + 36.79979809403509\n"
     ]
    },
    {
     "data": {
      "image/png": "[encoded data removed]",
      "text/plain": [
       "<Figure size 432x288 with 1 Axes>"
      ]
     },
     "metadata": {
      "needs_background": "light"
     },
     "output_type": "display_data"
    }
   ],
   "source": [
    "all_df[\"log_Distance\"] = all_df[\"Distance\"].apply(math.log10)\n",
    "m, b = np.polyfit(all_df[\"log_Distance\"], all_df[\"Signal strength (dBm)\"], 1)\n",
    "fig, ax1 = plt.subplots(1)\n",
    "ax1.plot(all_df[\"Distance\"], m*all_df[\"log_Distance\"] + b)\n",
    "all_df.plot(kind=\"scatter\", x=\"Distance\", y = \"Signal strength (dBm)\", logx = True, ax=ax1)\n",
    "ax1.set_xlabel(\"distance-log (meter)\")\n",
    "ax1.set_title(\"RSS vs .Log Distance\")\n",
    "print(f\"y={m}x + {b}\")"
   ]
  },
  {
   "cell_type": "code",
   "execution_count": 64,
   "id": "d8ae7a33",
   "metadata": {},
   "outputs": [
    {
     "data": {
      "text/html": [
       "<div>\n",
       "<style scoped>\n",
       "    .dataframe tbody tr th:only-of-type {\n",
       "        vertical-align: middle;\n",
       "    }\n",
       "\n",
       "    .dataframe tbody tr th {\n",
       "        vertical-align: top;\n",
       "    }\n",
       "\n",
       "    .dataframe thead th {\n",
       "        text-align: right;\n",
       "    }\n",
       "</style>\n",
       "<table border=\"1\" class=\"dataframe\">\n",
       "  <thead>\n",
       "    <tr style=\"text-align: right;\">\n",
       "      <th></th>\n",
       "      <th>Signal strength (dBm)</th>\n",
       "      <th>log_Distance</th>\n",
       "    </tr>\n",
       "    <tr>\n",
       "      <th>Distance</th>\n",
       "      <th></th>\n",
       "      <th></th>\n",
       "    </tr>\n",
       "  </thead>\n",
       "  <tbody>\n",
       "    <tr>\n",
       "      <th>1</th>\n",
       "      <td>35.027137</td>\n",
       "      <td>0.000000</td>\n",
       "    </tr>\n",
       "    <tr>\n",
       "      <th>2</th>\n",
       "      <td>33.009649</td>\n",
       "      <td>0.301030</td>\n",
       "    </tr>\n",
       "    <tr>\n",
       "      <th>3</th>\n",
       "      <td>33.466881</td>\n",
       "      <td>0.477121</td>\n",
       "    </tr>\n",
       "    <tr>\n",
       "      <th>4</th>\n",
       "      <td>29.993574</td>\n",
       "      <td>0.602060</td>\n",
       "    </tr>\n",
       "    <tr>\n",
       "      <th>5</th>\n",
       "      <td>28.578955</td>\n",
       "      <td>0.698970</td>\n",
       "    </tr>\n",
       "    <tr>\n",
       "      <th>6</th>\n",
       "      <td>27.532838</td>\n",
       "      <td>0.778151</td>\n",
       "    </tr>\n",
       "    <tr>\n",
       "      <th>7</th>\n",
       "      <td>25.417457</td>\n",
       "      <td>0.845098</td>\n",
       "    </tr>\n",
       "    <tr>\n",
       "      <th>8</th>\n",
       "      <td>20.127359</td>\n",
       "      <td>0.903090</td>\n",
       "    </tr>\n",
       "    <tr>\n",
       "      <th>9</th>\n",
       "      <td>25.214856</td>\n",
       "      <td>0.954243</td>\n",
       "    </tr>\n",
       "    <tr>\n",
       "      <th>10</th>\n",
       "      <td>23.968033</td>\n",
       "      <td>1.000000</td>\n",
       "    </tr>\n",
       "  </tbody>\n",
       "</table>\n",
       "</div>"
      ],
      "text/plain": [
       "          Signal strength (dBm)  log_Distance\n",
       "Distance                                     \n",
       "1                     35.027137      0.000000\n",
       "2                     33.009649      0.301030\n",
       "3                     33.466881      0.477121\n",
       "4                     29.993574      0.602060\n",
       "5                     28.578955      0.698970\n",
       "6                     27.532838      0.778151\n",
       "7                     25.417457      0.845098\n",
       "8                     20.127359      0.903090\n",
       "9                     25.214856      0.954243\n",
       "10                    23.968033      1.000000"
      ]
     },
     "execution_count": 64,
     "metadata": {},
     "output_type": "execute_result"
    }
   ],
   "source": [
    "avg_all_df = all_df.groupby(\"Distance\").mean()\n",
    "avg_all_df"
   ]
  },
  {
   "cell_type": "code",
   "execution_count": 66,
   "id": "f0238491",
   "metadata": {},
   "outputs": [
    {
     "name": "stdout",
     "output_type": "stream",
     "text": [
      "y=-13.328322558911717x + 36.976737634198464\n"
     ]
    },
    {
     "data": {
      "image/png": "[encoded data removed]",
      "text/plain": [
       "<Figure size 432x288 with 1 Axes>"
      ]
     },
     "metadata": {
      "needs_background": "light"
     },
     "output_type": "display_data"
    }
   ],
   "source": [
    "x = avg_all_df[\"log_Distance\"]\n",
    "y = avg_all_df[\"Signal strength (dBm)\"]\n",
    "m, b = np.polyfit(x,y ,1)\n",
    "\n",
    "fig, ax1 = plt.subplots(1)\n",
    "ax1.plot(x, m*x + b)\n",
    "avg_all_df.plot(kind=\"scatter\", x=\"log_Distance\", y = \"Signal strength (dBm)\", ax=ax1)\n",
    "ax1.set_xlabel(\"distance-log (meter)\")\n",
    "ax1.set_title(\"Average RSS vs .Log Distance\")\n",
    "print(f\"y={m}x + {b}\")\n"
   ]
  },
  {
   "cell_type": "code",
   "execution_count": null,
   "id": "50c88f4a",
   "metadata": {},
   "outputs": [],
   "source": []
  },
  {
   "cell_type": "code",
   "execution_count": null,
   "id": "683547e4",
   "metadata": {},
   "outputs": [],
   "source": []
  },
  {
   "cell_type": "code",
   "execution_count": null,
   "id": "b36d25ec",
   "metadata": {},
   "outputs": [],
   "source": []
  }
 ],
 "metadata": {
  "kernelspec": {
   "display_name": "Python 3 (ipykernel)",
   "language": "python",
   "name": "python3"
  },
  "language_info": {
   "codemirror_mode": {
    "name": "ipython",
    "version": 3
   },
   "file_extension": ".py",
   "mimetype": "text/x-python",
   "name": "python",
   "nbconvert_exporter": "python",
   "pygments_lexer": "ipython3",
   "version": "3.9.12"
  }
 },
 "nbformat": 4,
 "nbformat_minor": 5
}
