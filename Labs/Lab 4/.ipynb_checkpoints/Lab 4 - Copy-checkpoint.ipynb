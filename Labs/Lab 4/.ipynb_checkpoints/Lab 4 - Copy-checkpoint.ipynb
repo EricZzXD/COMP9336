{
 "cells": [
  {
   "cell_type": "markdown",
   "id": "adb8a63c",
   "metadata": {},
   "source": [
    "# Lab 4\n",
    "Student Name: Yuhua Zhao \\\n",
    "Student zID: z5404443\n",
    "\n",
    "## Environment\n",
    "Software: Anaconda \\\n",
    "Python Version: 3.9.12"
   ]
  },
  {
   "cell_type": "code",
   "execution_count": 1,
   "id": "c8f6b5f6",
   "metadata": {},
   "outputs": [],
   "source": [
    "import re\n",
    "import sys \n",
    "import subprocess\n",
    "import math\n",
    "\n",
    "# Table format Lin\n",
    "from tabulate import tabulate"
   ]
  },
  {
   "cell_type": "code",
   "execution_count": 2,
   "id": "8c006e95",
   "metadata": {},
   "outputs": [],
   "source": [
    "# Run the command to search the SSID nearby \n",
    "results = subprocess.check_output([\"netsh\", \"wlan\", \"show\", \"network\", \"mode=BSSID\"])"
   ]
  },
  {
   "cell_type": "markdown",
   "id": "539fd8d1",
   "metadata": {},
   "source": [
    "## Function/Algorithm"
   ]
  },
  {
   "cell_type": "code",
   "execution_count": 3,
   "id": "762f9dab",
   "metadata": {},
   "outputs": [],
   "source": [
    "def split_ssids(netsh_Result):\n",
    "    netsh_decode = netsh_Result.decode('utf-8')\n",
    "    SplitSSID = netsh_decode.split(\"\\nSSID \")\n",
    "    \n",
    "    # Remove the First Array (Netsh Intro)     \n",
    "    SplitSSID.pop(0)\n",
    "    \n",
    "    # Splited (removed) SSID, need to add back\n",
    "    for i in range(len(SplitSSID)):\n",
    "        SplitSSID[i] = \"SSID \" + SplitSSID[i]\n",
    "    \n",
    "    return SplitSSID"
   ]
  },
  {
   "cell_type": "code",
   "execution_count": 4,
   "id": "7eddd23a",
   "metadata": {},
   "outputs": [],
   "source": [
    "def get_SSID_Info(ssid_array_splited):\n",
    "    \n",
    "    # Split the String base on \":\" and clean all the spacing     \n",
    "    ssid_Split_Space = ssid_array_splited.split(\"\\n\")\n",
    "    ssid_array = []\n",
    "    for i in ssid_Split_Space:\n",
    "        temp = i.split(\" : \")\n",
    "        if len(temp) == 2:\n",
    "            temp[0] = temp[0].strip()\n",
    "            temp[1] = temp[1].strip()\n",
    "            ssid_array.append(temp)\n",
    "\n",
    "    \n",
    "    # Initial a Dictionary to store info\n",
    "    dic = {}\n",
    "    ssid_dic={}\n",
    "    temp_arr = []\n",
    "    bssid_arr = []\n",
    "    \n",
    "    # Loop each array to store the information accordingly    \n",
    "    for ac in range(len(ssid_array)):\n",
    "        # Get SSID and store in dic        \n",
    "        if ssid_array[ac][0].find(\"SSID\") != -1 & ssid_array[ac][0].find(\"BSSID\") != 0:\n",
    "            dic[\"SSID\"] = ssid_array[ac][1]\n",
    "\n",
    "        # Get SSID and store in dic\n",
    "        elif ssid_array[ac][0].find(\"Network type\") != -1:\n",
    "            ssid_dic.update({\"NetworkType\": ssid_array[ac][1]})\n",
    "            dic[\"SSID_Info\"] = ssid_dic\n",
    "\n",
    "        # Get SSID and store in dic\n",
    "        elif ssid_array[ac][0].find(\"Authentication\") != -1:\n",
    "            ssid_dic.update({\"Authentication\": ssid_array[ac][1]})\n",
    "            dic[\"SSID_Info\"] = ssid_dic\n",
    "\n",
    "        # Get SSID and store in dic\n",
    "        elif ssid_array[ac][0].find(\"Encryption\") != -1:\n",
    "            ssid_dic.update({\"Encryption\": ssid_array[ac][1]})\n",
    "            dic[\"SSID_Info\"] = ssid_dic\n",
    "\n",
    "        # Get BSSID info and store as Array \n",
    "        elif ssid_array[ac][0].find(\"BSSID\") == 0:\n",
    "            if len(temp) > 0:\n",
    "                bssid_arr.append(temp_arr)\n",
    "                temp_arr = []\n",
    "                temp_arr.append(ssid_array[ac][1])          \n",
    "            \n",
    "        # when Counter reach to the end, \n",
    "        elif ac == len(ssid_array) - 1:\n",
    "            # Update array List             \n",
    "            temp_bssid = []\n",
    "            bssid_arr.append(temp_arr)\n",
    "            \n",
    "            # Clean the List\n",
    "            for l in bssid_arr:\n",
    "                if len(l) != 0:\n",
    "                    temp_bssid.append(l)\n",
    "            \n",
    "            # Write the List to Dictionary              \n",
    "            bssid_arr = temp_bssid\n",
    "            ssid_dic.update({\"BSSID_Info\": bssid_arr})\n",
    "        \n",
    "        else:\n",
    "            temp_arr.append(ssid_array[ac][1])\n",
    "    \n",
    "    return dic"
   ]
  },
  {
   "cell_type": "code",
   "execution_count": 5,
   "id": "7c57f565",
   "metadata": {},
   "outputs": [],
   "source": [
    "def get_frequency(Channel):\n",
    "    if int(Channel) <= 14:\n",
    "        ssid_frequency = \"2.4 GHz\"\n",
    "    else:\n",
    "        ssid_frequency = \"5 GHz\"\n",
    "        \n",
    "    return ssid_frequency"
   ]
  },
  {
   "cell_type": "code",
   "execution_count": 6,
   "id": "3ebe1162",
   "metadata": {},
   "outputs": [],
   "source": [
    "def get_SignalStrength(rssi):\n",
    "    if (float(rssi<=0)):\n",
    "        dbm = 100\n",
    "    elif (float(rssi)>100):\n",
    "        dbm = -50\n",
    "    else: \n",
    "        dbm = float(rssi)/2-100\n",
    "    return dbm"
   ]
  },
  {
   "cell_type": "code",
   "execution_count": 7,
   "id": "667e84c5",
   "metadata": {},
   "outputs": [],
   "source": [
    "def get_estDistance(Frequency, Channel, SignalStrength):\n",
    "    # Info Link: https://en.wikipedia.org/wiki/List_of_WLAN_channels\n",
    "    # Frequency Table 2.4Ghz & 5GHz\n",
    "    FT_2_4 = [[1, 2412], [2, 2417], [3, 2422], [4, 2427], [5, 2432], [6, 2437], [7, 2442], [8, 2447], [9, 2452], [10, 2457], [11, 2462], [12, 2467], [13, 2472], [14, 2484]]\n",
    "    FT_5 = [[32, 5160], [34, 5170], [36, 5180], [38, 5190], [40, 5200], \n",
    "           [42, 5210], [44, 5220], [46, 5230], [48, 5240], [50, 5250], \n",
    "           [52, 5260], [54, 5270], [56, 5280], [58, 5290], [60, 5300], \n",
    "           [62, 5310], [64, 5320], [68, 5340], [96, 5480], [100, 5500], \n",
    "           [102, 5510], [104, 5520], [106, 5530], [108, 5540], [110, 5550], \n",
    "           [112, 5560], [114, 5570], [116, 5580], [118, 5590], [120, 5600], \n",
    "           [122, 5610], [124, 5620], [126, 5630], [128, 5640], [132, 5660], \n",
    "           [134, 5670], [136, 5680], [138, 5690], [140, 5700], [142, 5710], \n",
    "           [144, 5720], [149, 5745], [151, 5755], [153, 5765], [155, 5775], \n",
    "           [157, 5785], [159, 5795], [161, 5805], [163, 5815], [165, 5825], \n",
    "           [167, 5835], [169, 5845], [171, 5855], [173, 5865], [175, 5875], \n",
    "           [177, 5885], [182, 5910], [183, 5915], [184, 5920], [187, 5935], \n",
    "           [188, 5940], [189, 5945], [192, 5960], [196, 5980]]\n",
    "    \n",
    "    \n",
    "    SignalStrength = abs(float(SignalStrength))\n",
    "    Channel_Freq = 0    \n",
    "    \n",
    "    if Frequency == \"2.4 GHz\":\n",
    "        for i in FT_2_4:\n",
    "            if i[0] == int(Channel):\n",
    "                Channel_Freq = i[1]\n",
    "                break\n",
    "    else:\n",
    "        for i in FT_5:\n",
    "            if i[0] == int(Channel):\n",
    "                Channel_Freq = i[1]\n",
    "                break\n",
    "                \n",
    "    result = 10 ** ((27.55 - (20 * math.log10(Channel_Freq)) + SignalStrength)/20)\n",
    "    return result"
   ]
  },
  {
   "cell_type": "code",
   "execution_count": 10,
   "id": "293b10c9",
   "metadata": {},
   "outputs": [],
   "source": [
    "overall_dic = []\n",
    "\n",
    "Splited_SSID = split_ssids(results)\n",
    "\n",
    "for i in range(len(Splited_SSID)):\n",
    "    SSID_Info = get_SSID_Info(Splited_SSID[i])\n",
    "    overall_dic.append(Splited_SSID)\n"
   ]
  },
  {
   "cell_type": "code",
   "execution_count": 12,
   "id": "9863b435",
   "metadata": {},
   "outputs": [
    {
     "ename": "TypeError",
     "evalue": "list indices must be integers or slices, not str",
     "output_type": "error",
     "traceback": [
      "\u001b[1;31m---------------------------------------------------------------------------\u001b[0m",
      "\u001b[1;31mTypeError\u001b[0m                                 Traceback (most recent call last)",
      "Input \u001b[1;32mIn [12]\u001b[0m, in \u001b[0;36m<cell line: 2>\u001b[1;34m()\u001b[0m\n\u001b[0;32m      1\u001b[0m table_Array \u001b[38;5;241m=\u001b[39m []\n\u001b[0;32m      2\u001b[0m \u001b[38;5;28;01mfor\u001b[39;00m i \u001b[38;5;129;01min\u001b[39;00m \u001b[38;5;28mrange\u001b[39m(\u001b[38;5;28mlen\u001b[39m(overall_dic)):\n\u001b[0;32m      3\u001b[0m \u001b[38;5;66;03m#     ssid = overall_dic[i][\"SSID\"]\u001b[39;00m\n\u001b[1;32m----> 4\u001b[0m     \u001b[38;5;28;01mfor\u001b[39;00m j \u001b[38;5;129;01min\u001b[39;00m \u001b[38;5;28mrange\u001b[39m(\u001b[38;5;28mlen\u001b[39m(\u001b[43moverall_dic\u001b[49m\u001b[43m[\u001b[49m\u001b[43mi\u001b[49m\u001b[43m]\u001b[49m\u001b[43m[\u001b[49m\u001b[38;5;124;43m\"\u001b[39;49m\u001b[38;5;124;43mSSID_Info\u001b[39;49m\u001b[38;5;124;43m\"\u001b[39;49m\u001b[43m]\u001b[49m[\u001b[38;5;124m\"\u001b[39m\u001b[38;5;124mBSSID_Info\u001b[39m\u001b[38;5;124m\"\u001b[39m])):\n\u001b[0;32m      5\u001b[0m         BSSID \u001b[38;5;241m=\u001b[39m overall_dic[i][\u001b[38;5;124m\"\u001b[39m\u001b[38;5;124mSSID_Info\u001b[39m\u001b[38;5;124m\"\u001b[39m][\u001b[38;5;124m\"\u001b[39m\u001b[38;5;124mBSSID_Info\u001b[39m\u001b[38;5;124m\"\u001b[39m][j][\u001b[38;5;241m0\u001b[39m]\n\u001b[0;32m      6\u001b[0m         Signal \u001b[38;5;241m=\u001b[39m overall_dic[i][\u001b[38;5;124m\"\u001b[39m\u001b[38;5;124mSSID_Info\u001b[39m\u001b[38;5;124m\"\u001b[39m][\u001b[38;5;124m\"\u001b[39m\u001b[38;5;124mBSSID_Info\u001b[39m\u001b[38;5;124m\"\u001b[39m][j][\u001b[38;5;241m1\u001b[39m]\n",
      "\u001b[1;31mTypeError\u001b[0m: list indices must be integers or slices, not str"
     ]
    }
   ],
   "source": [
    "table_Array = []\n",
    "for i in range(len(overall_dic)):\n",
    "    ssid = overall_dic[i][\"SSID\"]\n",
    "    for j in range(len(overall_dic[i][\"SSID_Info\"][\"BSSID_Info\"])):\n",
    "        BSSID = overall_dic[i][\"SSID_Info\"][\"BSSID_Info\"][j][0]\n",
    "        Signal = overall_dic[i][\"SSID_Info\"][\"BSSID_Info\"][j][1]\n",
    "        Channel = overall_dic[i][\"SSID_Info\"][\"BSSID_Info\"][j][3]\n",
    "        ssid_frequency = get_frequency(Channel)\n",
    "        ssid_SignalStrength = get_SignalStrength(float(Signal.replace(\"%\",\"\")))\n",
    "        est_Distance = get_estDistance(ssid_frequency, Channel, ssid_SignalStrength)\n",
    "        temp = [ssid, BSSID, ssid_frequency, Channel, ssid_SignalStrength, est_Distance]\n",
    "        table_Array.append(temp)\n",
    "        \n",
    "Table_head = [\"SSID\", \"BSSID\", \"Frequency\", \"Channel\", \"Signal Strength\", \"Est. Distance (m)\"]\n",
    "print(tabulate(table_Array, headers=Table_head, tablefmt='orgtbl'))\n",
    " "
   ]
  },
  {
   "cell_type": "code",
   "execution_count": null,
   "id": "07fcaf9a",
   "metadata": {},
   "outputs": [],
   "source": []
  },
  {
   "cell_type": "code",
   "execution_count": null,
   "id": "4ac02b4b",
   "metadata": {},
   "outputs": [],
   "source": []
  }
 ],
 "metadata": {
  "kernelspec": {
   "display_name": "Python 3 (ipykernel)",
   "language": "python",
   "name": "python3"
  },
  "language_info": {
   "codemirror_mode": {
    "name": "ipython",
    "version": 3
   },
   "file_extension": ".py",
   "mimetype": "text/x-python",
   "name": "python",
   "nbconvert_exporter": "python",
   "pygments_lexer": "ipython3",
   "version": "3.9.12"
  }
 },
 "nbformat": 4,
 "nbformat_minor": 5
}
